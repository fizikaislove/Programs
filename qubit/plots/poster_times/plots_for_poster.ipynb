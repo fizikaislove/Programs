{
 "cells": [
  {
   "cell_type": "code",
   "execution_count": 1,
   "metadata": {},
   "outputs": [],
   "source": [
    "import pickle as pkl\n",
    "import matplotlib.pyplot as plt\n",
    "import numpy as np\n",
    "%matplotlib qt5"
   ]
  },
  {
   "cell_type": "code",
   "execution_count": 12,
   "metadata": {},
   "outputs": [],
   "source": [
    "Ramsey = \"/home/ivan/thesis-Ivan/T1T2_after_warmup\"\n",
    "Decay = \"/home/ivan/thesis-Ivan/T1T2_after_warmup\""
   ]
  },
  {
   "cell_type": "code",
   "execution_count": 23,
   "metadata": {},
   "outputs": [],
   "source": [
    "with open(Ramsey +\"/\"+\"Ramsey qubit 2.pkl\",'rb') as files:\n",
    "    data = pkl.load(files)"
   ]
  },
  {
   "cell_type": "code",
   "execution_count": 24,
   "metadata": {},
   "outputs": [],
   "source": [
    "time = data[1]['S21+'][1][0]\n",
    "s21 = np.imag(data[1]['S21+'][-3])\n",
    "fit=np.imag(data[1]['S21+ fit'][-3])"
   ]
  },
  {
   "cell_type": "code",
   "execution_count": 25,
   "metadata": {},
   "outputs": [],
   "source": [
    "plt.figure(figsize=(12/1.5/1.0803782505910165484633569739953,8/1.5))\n",
    "# plt.plot(time[:200]*1e6,fit[:200]*1e2,label='${T_{1}}$=5.9$\\\\mu s$',linewidth=4)\n",
    "plt.plot(time[:200]*1e6,fit[:200]*1e2,label='${T_{2}}$=2.4мкс',linewidth=4)\n",
    "plt.plot(time[:200]*1e6,s21[:200]*1e2,'ko',markersize=6)\n",
    "plt.tick_params(labelsize = 20)\n",
    "\n",
    "# plt.xlabel(\"Delay [$\\\\mu s$]\", fontsize = 20)\n",
    "plt.xlabel(\"Ожидание,мкс\", fontsize = 20)\n",
    "plt.ylabel(\"$\\operatorname{Im}{S_{21}}$\", fontsize = 20)\n",
    "plt.legend(prop={'size': 25})\n",
    "plt.grid(True)\n",
    "plt.tight_layout()\n",
    "plt.plot\n",
    "plt.savefig('T2',format='png',dpi=300)"
   ]
  },
  {
   "cell_type": "code",
   "execution_count": null,
   "metadata": {},
   "outputs": [],
   "source": []
  },
  {
   "cell_type": "code",
   "execution_count": null,
   "metadata": {},
   "outputs": [],
   "source": []
  },
  {
   "cell_type": "code",
   "execution_count": 1,
   "metadata": {
    "collapsed": true
   },
   "outputs": [],
   "source": [
    "from pathlib import Path"
   ]
  },
  {
   "cell_type": "code",
   "execution_count": 7,
   "metadata": {
    "collapsed": true
   },
   "outputs": [],
   "source": [
    "1dir_to_scan = \"/home/ivan/thesis-Ivan/T1T2_after_warmup\""
   ]
  },
  {
   "cell_type": "code",
   "execution_count": 8,
   "metadata": {
    "collapsed": true
   },
   "outputs": [],
   "source": [
    "p = Path(dir_to_scan)"
   ]
  },
  {
   "cell_type": "code",
   "execution_count": 31,
   "metadata": {},
   "outputs": [
    {
     "name": "stdout",
     "output_type": "stream",
     "text": [
      "['', 'home', 'ivan', 'thesis-Ivan', 'T1T2_after_warmup', '18-25-30-Ramsey qubit2']\n",
      "['', 'home', 'ivan', 'thesis-Ivan', 'T1T2_after_warmup', '19-16-17']\n",
      "['', 'home', 'ivan', 'thesis-Ivan', 'T1T2_after_warmup', '18-50-21']\n",
      "['', 'home', 'ivan', 'thesis-Ivan', 'T1T2_after_warmup', 'Decay qubit 2.pkl']\n",
      "['', 'home', 'ivan', 'thesis-Ivan', 'T1T2_after_warmup', '19-09-55-Decay qubit2']\n",
      "['', 'home', 'ivan', 'thesis-Ivan', 'T1T2_after_warmup', 'Ramsey qubit 2.pkl']\n"
     ]
    }
   ],
   "source": [
    "for i in p.iterdir():\n",
    "    print(str(i).split('/'))"
   ]
  }
 ],
 "metadata": {
  "kernelspec": {
   "display_name": "Python 3",
   "language": "python",
   "name": "python3"
  },
  "language_info": {
   "codemirror_mode": {
    "name": "ipython",
    "version": 3
   },
   "file_extension": ".py",
   "mimetype": "text/x-python",
   "name": "python",
   "nbconvert_exporter": "python",
   "pygments_lexer": "ipython3",
   "version": "3.5.5"
  }
 },
 "nbformat": 4,
 "nbformat_minor": 2
}
