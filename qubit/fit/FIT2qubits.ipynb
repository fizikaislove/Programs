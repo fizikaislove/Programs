{
 "cells": [
  {
   "cell_type": "code",
   "execution_count": 1,
   "metadata": {},
   "outputs": [],
   "source": [
    "import matplotlib.pyplot as plt\n",
    "import numpy as np\n",
    "from numpy import pi\n",
    "import pickle as pkl\n",
    "from qutip import *"
   ]
  },
  {
   "cell_type": "code",
   "execution_count": 2,
   "metadata": {},
   "outputs": [],
   "source": [
    "%matplotlib qt5"
   ]
  },
  {
   "cell_type": "code",
   "execution_count": 3,
   "metadata": {},
   "outputs": [],
   "source": [
    "f1 = open('Sample 1808-072_2 Coil #NNDAC-6 two-tone qubit2.pkl', 'rb')\n",
    "data = pkl.load(f1)  "
   ]
  },
  {
   "cell_type": "code",
   "execution_count": 4,
   "metadata": {},
   "outputs": [],
   "source": [
    "f = open('Sample 1808-072_2 Coil #NNDAC-6 two-tone qubit1.pkl', 'rb')\n",
    "data1 = pkl.load(f)"
   ]
  },
  {
   "cell_type": "code",
   "execution_count": 5,
   "metadata": {},
   "outputs": [],
   "source": [
    "flux = data[1][\"S-parameter\"][1][0]\n",
    "freq = data[1][\"S-parameter\"][1][1]/1e9\n",
    "S21 = data[1][\"S-parameter\"][2]\n",
    "plt.figure(1)\n",
    "plt.imshow((np.imag(S21)-np.mean(np.imag(S21))).T,cmap='RdBu',\n",
    "                  extent=[np.min(flux),np.max(flux),np.min(freq),np.max(freq)],\n",
    "                   aspect='auto',origin='lower')\n",
    "plt.show()"
   ]
  },
  {
   "cell_type": "code",
   "execution_count": 6,
   "metadata": {},
   "outputs": [],
   "source": [
    "flux1 = data1[1][\"S-parameter\"][1][0]\n",
    "freq1 = data1[1][\"S-parameter\"][1][1]/1e9\n",
    "S211 = data1[1][\"S-parameter\"][2]\n",
    "plt.figure(2)\n",
    "plt.imshow((np.imag(S211)-np.mean(np.imag(S211))).T,cmap='RdBu',\n",
    "                  extent=[np.min(flux1),np.max(flux1),np.min(freq1),np.max(freq1)],\n",
    "                   aspect='auto',origin='lower')\n",
    "plt.show()"
   ]
  },
  {
   "cell_type": "code",
   "execution_count": 7,
   "metadata": {},
   "outputs": [],
   "source": [
    "alpha= 0.175\n",
    "wq1_max=5.887\n",
    "wq1_min=4.987\n",
    "wq2_max=5.915\n",
    "wq2_min=4.986\n",
    "w_r=6.7\n",
    "g=0.040\n",
    "bias = 0"
   ]
  },
  {
   "cell_type": "code",
   "execution_count": 19,
   "metadata": {},
   "outputs": [],
   "source": [
    "# def qubit_frequency(flux,Ej1,Ej2,Ec,bias=0): # if flux in flux quanta\n",
    "#     Ej=np.sqrt(((Ej1+Ej2)*np.cos(np.pi*flux+bias))**2+((Ej1-Ej2)*np.sin(np.pi*flux+bias))**2)\n",
    "#     return np.sqrt(8*Ec*Ej)-Ec"
   ]
  },
  {
   "cell_type": "code",
   "execution_count": 19,
   "metadata": {},
   "outputs": [],
   "source": [
    "def E_J(flux,Ej1,Ej2,bias=0): # if flux in flux quanta\n",
    "    Ej=np.sqrt(((Ej1+Ej2)*np.cos(np.pi*flux+bias))**2+((Ej1-Ej2)*np.sin(np.pi*flux+bias))**2)\n",
    "    return Ej"
   ]
  },
  {
   "cell_type": "code",
   "execution_count": 20,
   "metadata": {},
   "outputs": [
    {
     "data": {
      "text/plain": [
       "26.248459999999998"
      ]
     },
     "execution_count": 20,
     "metadata": {},
     "output_type": "execute_result"
    }
   ],
   "source": [
    "E_J(0,Ej11,Ej12)"
   ]
  },
  {
   "cell_type": "code",
   "execution_count": 21,
   "metadata": {},
   "outputs": [],
   "source": [
    "def Ejs(minf,maxf,alpha):\n",
    "    Ejmin=(minf+alpha)**2/(8*alpha)\n",
    "    Ejmax=(maxf+alpha)**2/(8*alpha)\n",
    "    Ej1 = (Ejmax-Ejmin)/2\n",
    "    Ej2 = (Ejmax+Ejmin)/2\n",
    "    return Ej1,Ej2  "
   ]
  },
  {
   "cell_type": "code",
   "execution_count": 22,
   "metadata": {},
   "outputs": [
    {
     "data": {
      "text/plain": [
       "(3.607714285714284, 22.640745714285714, 3.7329210714285708, 22.758578928571428)"
      ]
     },
     "execution_count": 22,
     "metadata": {},
     "output_type": "execute_result"
    }
   ],
   "source": [
    "Ej11,Ej12=Ejs(wq1_min,wq1_max,alpha)\n",
    "Ej22,Ej21=Ejs(wq2_min,wq2_max,alpha)\n",
    "Ej11,Ej12,Ej22,Ej21"
   ]
  },
  {
   "cell_type": "code",
   "execution_count": 23,
   "metadata": {},
   "outputs": [],
   "source": [
    "import numpy as np"
   ]
  },
  {
   "cell_type": "code",
   "execution_count": 24,
   "metadata": {},
   "outputs": [],
   "source": [
    "def n():\n",
    "    return Qobj((np.diag(np.arange(-N_q, N_q+1, 1))))\n",
    "def H_tr(E_C, curr, Ej1, Ej2,N_q):\n",
    "    return 4*E_C*n()**2+ E_J(curr, Ej1, Ej2)/2*(Qobj(np.diag(np.ones(2*N_q), 1) + np.diag(np.ones(2*N_q), -1)))"
   ]
  },
  {
   "cell_type": "code",
   "execution_count": 40,
   "metadata": {},
   "outputs": [],
   "source": [
    "E_C=0.175# это надо правильно подбирать"
   ]
  },
  {
   "cell_type": "code",
   "execution_count": 36,
   "metadata": {},
   "outputs": [],
   "source": [
    "# E_C=1.106424911858447"
   ]
  },
  {
   "cell_type": "markdown",
   "metadata": {},
   "source": [
    "## two-levels approximation"
   ]
  },
  {
   "cell_type": "code",
   "execution_count": 27,
   "metadata": {},
   "outputs": [
    {
     "ename": "NameError",
     "evalue": "name 'qubit_frequency' is not defined",
     "output_type": "error",
     "traceback": [
      "\u001b[0;31m---------------------------------------------------------------------------\u001b[0m",
      "\u001b[0;31mNameError\u001b[0m                                 Traceback (most recent call last)",
      "\u001b[0;32m<ipython-input-27-03a1c419c802>\u001b[0m in \u001b[0;36m<module>\u001b[0;34m\u001b[0m\n\u001b[1;32m      4\u001b[0m \u001b[0mfluxes\u001b[0m \u001b[0;34m=\u001b[0m \u001b[0mnp\u001b[0m\u001b[0;34m.\u001b[0m\u001b[0mlinspace\u001b[0m\u001b[0;34m(\u001b[0m\u001b[0;36m0\u001b[0m\u001b[0;34m,\u001b[0m \u001b[0;36m0.5\u001b[0m\u001b[0;34m,\u001b[0m \u001b[0mflux_points\u001b[0m\u001b[0;34m)\u001b[0m \u001b[0;31m#in flux quanta\u001b[0m\u001b[0;34m\u001b[0m\u001b[0m\n\u001b[1;32m      5\u001b[0m \u001b[0;32mfor\u001b[0m \u001b[0mflux_id\u001b[0m\u001b[0;34m,\u001b[0m \u001b[0mflux\u001b[0m \u001b[0;32min\u001b[0m \u001b[0menumerate\u001b[0m\u001b[0;34m(\u001b[0m\u001b[0mfluxes\u001b[0m\u001b[0;34m)\u001b[0m\u001b[0;34m:\u001b[0m\u001b[0;34m\u001b[0m\u001b[0m\n\u001b[0;32m----> 6\u001b[0;31m     \u001b[0mwq_flux1\u001b[0m \u001b[0;34m=\u001b[0m \u001b[0mqubit_frequency\u001b[0m\u001b[0;34m(\u001b[0m\u001b[0mflux\u001b[0m\u001b[0;34m,\u001b[0m\u001b[0mEj11\u001b[0m\u001b[0;34m,\u001b[0m\u001b[0mEj12\u001b[0m\u001b[0;34m,\u001b[0m\u001b[0malpha\u001b[0m\u001b[0;34m)\u001b[0m\u001b[0;34m\u001b[0m\u001b[0m\n\u001b[0m\u001b[1;32m      7\u001b[0m     \u001b[0mwq_flux2\u001b[0m \u001b[0;34m=\u001b[0m \u001b[0mqubit_frequency\u001b[0m\u001b[0;34m(\u001b[0m\u001b[0mmax\u001b[0m\u001b[0;34m(\u001b[0m\u001b[0mfluxes\u001b[0m\u001b[0;34m)\u001b[0m\u001b[0;34m-\u001b[0m\u001b[0mflux\u001b[0m\u001b[0;34m,\u001b[0m\u001b[0mEj22\u001b[0m\u001b[0;34m,\u001b[0m\u001b[0mEj21\u001b[0m\u001b[0;34m,\u001b[0m\u001b[0malpha\u001b[0m\u001b[0;34m)\u001b[0m\u001b[0;34m\u001b[0m\u001b[0m\n\u001b[1;32m      8\u001b[0m     \u001b[0mH\u001b[0m \u001b[0;34m=\u001b[0m\u001b[0mwq_flux2\u001b[0m\u001b[0;34m*\u001b[0m\u001b[0mtensor\u001b[0m\u001b[0;34m(\u001b[0m\u001b[0msigmaz\u001b[0m\u001b[0;34m(\u001b[0m\u001b[0;34m)\u001b[0m\u001b[0;34m,\u001b[0m \u001b[0midentity\u001b[0m\u001b[0;34m(\u001b[0m\u001b[0;36m2\u001b[0m\u001b[0;34m)\u001b[0m\u001b[0;34m)\u001b[0m\u001b[0;34m/\u001b[0m\u001b[0;36m2\u001b[0m \u001b[0;34m+\u001b[0m \u001b[0mwq_flux1\u001b[0m\u001b[0;34m*\u001b[0m\u001b[0mtensor\u001b[0m\u001b[0;34m(\u001b[0m\u001b[0midentity\u001b[0m\u001b[0;34m(\u001b[0m\u001b[0;36m2\u001b[0m\u001b[0;34m)\u001b[0m\u001b[0;34m,\u001b[0m\u001b[0msigmaz\u001b[0m\u001b[0;34m(\u001b[0m\u001b[0;34m)\u001b[0m\u001b[0;34m)\u001b[0m\u001b[0;34m/\u001b[0m\u001b[0;36m2\u001b[0m\u001b[0;34m+\u001b[0m\u001b[0mg\u001b[0m\u001b[0;34m*\u001b[0m \u001b[0mtensor\u001b[0m\u001b[0;34m(\u001b[0m\u001b[0msigmax\u001b[0m\u001b[0;34m(\u001b[0m\u001b[0;34m)\u001b[0m\u001b[0;34m,\u001b[0m \u001b[0msigmax\u001b[0m\u001b[0;34m(\u001b[0m\u001b[0;34m)\u001b[0m\u001b[0;34m)\u001b[0m\u001b[0;34m\u001b[0m\u001b[0m\n",
      "\u001b[0;31mNameError\u001b[0m: name 'qubit_frequency' is not defined"
     ]
    }
   ],
   "source": [
    "flux_points = 256+1\n",
    "spectral_lines = np.zeros((2, flux_points))\n",
    "wq_flux_dep = np.zeros((flux_points))\n",
    "fluxes = np.linspace(0, 0.5, flux_points) #in flux quanta\n",
    "for flux_id, flux in enumerate(fluxes):\n",
    "    wq_flux1 = qubit_frequency(flux,Ej11,Ej12,alpha)\n",
    "    wq_flux2 = qubit_frequency(max(fluxes)-flux,Ej22,Ej21,alpha)\n",
    "    H =wq_flux2*tensor(sigmaz(), identity(2))/2 + wq_flux1*tensor(identity(2),sigmaz())/2+g* tensor(sigmax(), sigmax())\n",
    "    energies, eigenvectors = H.eigenstates()\n",
    "    ground_state_energy = energies[0]\n",
    "    spectral_lines[:, flux_id] = np.sort(energies[1:3]-ground_state_energy)\n",
    "plt.plot(fluxes, spectral_lines[0],\":\",color='green',linewidth=3)\n",
    "plt.plot(fluxes, spectral_lines[1],\":\",color='green', linewidth=3)\n",
    "\n",
    "#plt.plot(fluxes, (spectral_lines[1]+spectral_lines[0])/2,\":\",color='green', linewidth=3)\n",
    "plt.show()\n"
   ]
  },
  {
   "cell_type": "code",
   "execution_count": 60,
   "metadata": {},
   "outputs": [],
   "source": [
    "a=S211+S21\n",
    "plt.imshow((np.imag(a)-np.mean(np.imag(a))).T,cmap='RdBu',\n",
    "                  extent=[np.min(flux1),np.max(flux1),np.min(freq1),np.max(freq1)],\n",
    "                   aspect='auto',origin='lower')\n",
    "plt.colorbar()\n",
    "plt.ylabel(\"Частота,ГГц\")\n",
    "plt.xlabel(\"Поток,$\\Phi_0$\")\n",
    "plt.show()"
   ]
  },
  {
   "cell_type": "markdown",
   "metadata": {},
   "source": [
    "## many levels"
   ]
  },
  {
   "cell_type": "code",
   "execution_count": 29,
   "metadata": {},
   "outputs": [],
   "source": [
    "from tqdm import tqdm"
   ]
  },
  {
   "cell_type": "code",
   "execution_count": 44,
   "metadata": {},
   "outputs": [
    {
     "name": "stderr",
     "output_type": "stream",
     "text": [
      "100%|██████████| 101/101 [02:49<00:00,  1.49s/it]\n"
     ]
    }
   ],
   "source": [
    "curs = np.linspace(0, 0.5, 101)\n",
    "N_q=7\n",
    "g=0.025\n",
    "gqr=0.06\n",
    "evals_list = []\n",
    "for cur in tqdm(curs):\n",
    "#     H = tensor(H_tr(E_C, cur, Ej11,Ej12,N_q), qutip.identity(15))+\\\n",
    "#     tensor(qutip.identity(15), H_tr(E_C, max(curs)-cur, Ej22,Ej21,N_q))+g*tensor(n(), n())\n",
    "    H = tensor(H_tr(E_C, cur, Ej11,Ej12,N_q), qutip.identity(15), qutip.identity(7))+\\\n",
    "       tensor(qutip.identity(15), H_tr(E_C, max(curs)-cur, Ej22,Ej21,N_q), qutip.identity(7))+\\\n",
    "       tensor(qutip.identity(15), qutip.identity(15), w_r*destroy(7)*create(7))+\\\n",
    "       g*tensor(n(), n(), qutip.identity(7))+\\\n",
    "        gqr*tensor(qutip.identity(15), n(), destroy(7)+create(7))+\\\n",
    "        gqr*tensor(n(), qutip.identity(15), destroy(7)+create(7))\n",
    "    #H=H_tr(E_C, cur, Ej11,Ej12,N_q)\n",
    "    evals_list.append(H.eigenenergies())\n",
    "evals_arr = np.array(evals_list)"
   ]
  },
  {
   "cell_type": "code",
   "execution_count": 43,
   "metadata": {},
   "outputs": [],
   "source": [
    "plt.plot(curs, evals_arr[:,1] - evals_arr[:,0], \":\", color = \"green\",linewidth=3)\n",
    "plt.show()"
   ]
  },
  {
   "cell_type": "code",
   "execution_count": 31,
   "metadata": {},
   "outputs": [],
   "source": [
    "plt.plot(curs, evals_arr[:,1] - evals_arr[:,0], \":\", color = \"green\",linewidth=3)\n",
    "plt.plot(curs, evals_arr[:,2] - evals_arr[:,0], \":\", color = \"black\",linewidth=3)\n",
    "plt.plot(curs, (evals_arr[:,3] - evals_arr[:,0]), \":\", color = \"black\")\n",
    "plt.plot(curs, (evals_arr[:,4] - evals_arr[:,0]), \":\", color = \"grey\")\n",
    "plt.plot(curs, (evals_arr[:,4] - evals_arr[:,0]), \":\", color = \"grey\")\n",
    "plt.plot(curs/1, (evals_arr[:,6] - evals_arr[:,0])/2, \":\", color = \"red\")\n",
    "plt.plot(curs/1, (evals_arr[:,7] - evals_arr[:,0])/2, \":\", color = \"red\")\n",
    "plt.plot(curs/1, (evals_arr[:,8] - evals_arr[:,0])/2, \":\", color = \"red\")\n",
    "plt.plot(curs/1, (evals_arr[:,9] - evals_arr[:,0])/2, \":\", color = \"red\")\n",
    "plt.plot(curs/1, (evals_arr[:,9] - evals_arr[:,0])/2, \":\", color = \"red\")\n",
    "plt.plot(curs/1, (evals_arr[:,20] - evals_arr[:,0])/\n",
    "         3, \":\", color = \"red\")\n",
    "plt.plot(curs/1, (evals_arr[:,21] - evals_arr[:,0])/3, \":\", color = \"red\")\n",
    "plt.show()"
   ]
  },
  {
   "cell_type": "code",
   "execution_count": 61,
   "metadata": {},
   "outputs": [],
   "source": [
    "plt.plot(curs, evals_arr[:,1] - evals_arr[:,0], \":\", color = \"black\",linewidth=3)\n",
    "plt.plot(curs, evals_arr[:,2] - evals_arr[:,0], \":\", color = \"black\",linewidth=3)\n",
    "plt.plot(curs/1, (evals_arr[:,4] - evals_arr[:,0])/2, \":\", color = \"black\",linewidth=3)\n",
    "plt.plot(curs/1, (evals_arr[:,5] - evals_arr[:,0])/2, \":\", color = \"black\",linewidth=3)\n",
    "# plt.plot(curs/1, (evals_arr[:,6] - evals_arr[:,0])/2, \":\", color = \"black\",linewidth=3)\n",
    "# plt.plot(curs/1, (evals_arr[:,4] - evals_arr[:,1]), \":\", color = \"black\",linewidth=3) #2photon1qubit\n",
    "plt.show()"
   ]
  },
  {
   "cell_type": "code",
   "execution_count": 58,
   "metadata": {},
   "outputs": [
    {
     "data": {
      "text/plain": [
       "(4.975065893297078,\n",
       " 5.881781733239237,\n",
       " 4.880350765272931,\n",
       " 5.42743853760841,\n",
       " 5.789598950338725)"
      ]
     },
     "execution_count": 58,
     "metadata": {},
     "output_type": "execute_result"
    }
   ],
   "source": [
    "(evals_arr[:,1] - evals_arr[:,0])[0],\\\n",
    "(evals_arr[:,2] - evals_arr[:,0])[0],\\\n",
    "(evals_arr[:,4] - evals_arr[:,0])[0]/2,\\\n",
    "(evals_arr[:,5] - evals_arr[:,0])[0]/2,\\\n",
    "(evals_arr[:,6] - evals_arr[:,0])[0]/2"
   ]
  },
  {
   "cell_type": "code",
   "execution_count": 59,
   "metadata": {},
   "outputs": [
    {
     "data": {
      "text/plain": [
       "5.428423813268157"
      ]
     },
     "execution_count": 59,
     "metadata": {},
     "output_type": "execute_result"
    }
   ],
   "source": [
    "(4.975065893297078+5.881781733239237)/2"
   ]
  },
  {
   "cell_type": "markdown",
   "metadata": {},
   "source": [
    "## with resonator"
   ]
  },
  {
   "cell_type": "code",
   "execution_count": 26,
   "metadata": {},
   "outputs": [],
   "source": [
    "Nr=2\n",
    "g_q_r = 0.06\n",
    "w_r=6.6\n",
    "a = destroy(Nr)"
   ]
  },
  {
   "cell_type": "code",
   "execution_count": 33,
   "metadata": {},
   "outputs": [
    {
     "ename": "NameError",
     "evalue": "name 'qubit_frequency1' is not defined",
     "output_type": "error",
     "traceback": [
      "\u001b[0;31m---------------------------------------------------------------------------\u001b[0m",
      "\u001b[0;31mNameError\u001b[0m                                 Traceback (most recent call last)",
      "\u001b[0;32m<ipython-input-33-c025dbd6b570>\u001b[0m in \u001b[0;36m<module>\u001b[0;34m\u001b[0m\n\u001b[1;32m      4\u001b[0m \u001b[0mfluxes\u001b[0m \u001b[0;34m=\u001b[0m \u001b[0mnp\u001b[0m\u001b[0;34m.\u001b[0m\u001b[0mlinspace\u001b[0m\u001b[0;34m(\u001b[0m\u001b[0;36m0\u001b[0m\u001b[0;34m,\u001b[0m \u001b[0;36m0.5\u001b[0m\u001b[0;34m,\u001b[0m \u001b[0mflux_points\u001b[0m\u001b[0;34m)\u001b[0m \u001b[0;31m#in flux quanta\u001b[0m\u001b[0;34m\u001b[0m\u001b[0m\n\u001b[1;32m      5\u001b[0m \u001b[0;32mfor\u001b[0m \u001b[0mflux_id\u001b[0m\u001b[0;34m,\u001b[0m \u001b[0mflux\u001b[0m \u001b[0;32min\u001b[0m \u001b[0menumerate\u001b[0m\u001b[0;34m(\u001b[0m\u001b[0mfluxes\u001b[0m\u001b[0;34m)\u001b[0m\u001b[0;34m:\u001b[0m\u001b[0;34m\u001b[0m\u001b[0m\n\u001b[0;32m----> 6\u001b[0;31m     \u001b[0mwq_flux1\u001b[0m \u001b[0;34m=\u001b[0m \u001b[0mqubit_frequency1\u001b[0m\u001b[0;34m(\u001b[0m\u001b[0mflux\u001b[0m\u001b[0;34m,\u001b[0m\u001b[0mEj11\u001b[0m\u001b[0;34m,\u001b[0m\u001b[0mEj12\u001b[0m\u001b[0;34m,\u001b[0m\u001b[0malpha\u001b[0m\u001b[0;34m)\u001b[0m\u001b[0;34m\u001b[0m\u001b[0m\n\u001b[0m\u001b[1;32m      7\u001b[0m     \u001b[0mwq_flux2\u001b[0m \u001b[0;34m=\u001b[0m \u001b[0mqubit_frequency1\u001b[0m\u001b[0;34m(\u001b[0m\u001b[0mmax\u001b[0m\u001b[0;34m(\u001b[0m\u001b[0mfluxes\u001b[0m\u001b[0;34m)\u001b[0m\u001b[0;34m-\u001b[0m\u001b[0mflux\u001b[0m\u001b[0;34m,\u001b[0m\u001b[0mEj22\u001b[0m\u001b[0;34m,\u001b[0m\u001b[0mEj21\u001b[0m\u001b[0;34m,\u001b[0m\u001b[0malpha\u001b[0m\u001b[0;34m)\u001b[0m\u001b[0;34m\u001b[0m\u001b[0m\n\u001b[1;32m      8\u001b[0m     \u001b[0mH\u001b[0m \u001b[0;34m=\u001b[0m\u001b[0mwq_flux2\u001b[0m\u001b[0;34m*\u001b[0m\u001b[0mtensor\u001b[0m\u001b[0;34m(\u001b[0m\u001b[0msigmaz\u001b[0m\u001b[0;34m(\u001b[0m\u001b[0;34m)\u001b[0m\u001b[0;34m,\u001b[0m \u001b[0midentity\u001b[0m\u001b[0;34m(\u001b[0m\u001b[0;36m2\u001b[0m\u001b[0;34m)\u001b[0m\u001b[0;34m,\u001b[0m\u001b[0midentity\u001b[0m\u001b[0;34m(\u001b[0m\u001b[0mNr\u001b[0m\u001b[0;34m)\u001b[0m\u001b[0;34m)\u001b[0m\u001b[0;34m/\u001b[0m\u001b[0;36m2\u001b[0m \u001b[0;34m+\u001b[0m\u001b[0;31m\\\u001b[0m\u001b[0;34m\u001b[0m\u001b[0m\n",
      "\u001b[0;31mNameError\u001b[0m: name 'qubit_frequency1' is not defined"
     ]
    }
   ],
   "source": [
    "flux_points = 512+1\n",
    "spectral_lines = np.zeros((3, flux_points))\n",
    "wq_flux_dep = np.zeros((flux_points))\n",
    "fluxes = np.linspace(0, 0.5, flux_points) #in flux quanta\n",
    "for flux_id, flux in enumerate(fluxes):\n",
    "    wq_flux1 = qubit_frequency1(flux,Ej11,Ej12,alpha)\n",
    "    wq_flux2 = qubit_frequency1(max(fluxes)-flux,Ej22,Ej21,alpha)\n",
    "    H =wq_flux2*tensor(sigmaz(), identity(2),identity(Nr))/2 +\\\n",
    "    wq_flux1*tensor(identity(2),sigmaz(),identity(Nr))/2 +\\\n",
    "    g* tensor(sigmax(), sigmax(),identity(Nr))+\\\n",
    "    g_q_r*tensor(sigmax(),identity(2),a+a.dag())+\\\n",
    "    g_q_r*tensor(identity(2),sigmax(),a+a.dag())+\\\n",
    "    w_r*tensor(identity(2),identity(2),a.dag()*a)\n",
    "    energies, eigenvectors = H.eigenstates()\n",
    "    ground_state_energy = energies[0]\n",
    "    spectral_lines[:, flux_id] = np.sort(energies[1:4]-ground_state_energy)#,energies[4]-ground_state_energy])\n",
    "plt.plot(fluxes, spectral_lines[0],\":\",color='green',linewidth=3)\n",
    "plt.plot(fluxes, spectral_lines[1],\":\",color='green', linewidth=3)\n",
    "plt.plot(fluxes, spectral_lines[2],\"-\",color='green', linewidth=3)\n",
    "#plt.plot(fluxes, (spectral_lines[1]+spectral_lines[0])/2,\":\",color='green', linewidth=3)\n",
    "plt.show()"
   ]
  },
  {
   "cell_type": "code",
   "execution_count": 12,
   "metadata": {},
   "outputs": [
    {
     "name": "stdout",
     "output_type": "stream",
     "text": [
      "4.983725987443282\n",
      "5.9115207143762145\n",
      "6.608218043316809\n",
      "10.895660351005485\n",
      "11.59108337699763\n",
      "12.52021126676722\n",
      "17.503490249634062\n",
      "0.9277947269329321\n",
      "1.6244920558735263\n",
      "5.911934363562203\n",
      "6.607357389554347\n",
      "7.536485279323937\n",
      "12.519764262190781\n",
      "0.6966973289405942\n",
      "4.984139636629271\n",
      "5.679562662621415\n",
      "6.608690552391005\n",
      "11.59196953525785\n",
      "4.287442307688677\n",
      "4.982865333680821\n",
      "5.911993223450411\n",
      "10.895272206317255\n",
      "0.6954230259921443\n",
      "1.6245509157617342\n",
      "6.607829898628578\n",
      "0.9291278897695898\n",
      "5.912406872636434\n",
      "4.983278982866844\n"
     ]
    }
   ],
   "source": [
    "for i,x in enumerate(energies):\n",
    "    for j,y in enumerate(energies):\n",
    "        if(j>i):\n",
    "            print(abs(x-y))"
   ]
  },
  {
   "cell_type": "code",
   "execution_count": null,
   "metadata": {},
   "outputs": [],
   "source": []
  }
 ],
 "metadata": {
  "kernelspec": {
   "display_name": "Python 3",
   "language": "python",
   "name": "python3"
  },
  "language_info": {
   "codemirror_mode": {
    "name": "ipython",
    "version": 3
   },
   "file_extension": ".py",
   "mimetype": "text/x-python",
   "name": "python",
   "nbconvert_exporter": "python",
   "pygments_lexer": "ipython3",
   "version": "3.5.5"
  }
 },
 "nbformat": 4,
 "nbformat_minor": 2
}
